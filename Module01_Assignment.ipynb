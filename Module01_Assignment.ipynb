# Part 1: Plot a Simple Quadratic Equation
import matplotlib.pyplot as plt
import numpy as np

# Generate x values
x = np.linspace(-10, 10, 100)

# Quadratic equation: y = x^2 - 4x + 5
y = x**2 - 4*x + 5

# Plotting the graph
plt.figure(figsize=(8, 6))
plt.plot(x, y, label='y = x^2 - 4x + 5', color='blue')
plt.title('Quadratic Equation Plot')
plt.xlabel('x')
plt.ylabel('y')
plt.legend()
plt.grid()
plt.show()
